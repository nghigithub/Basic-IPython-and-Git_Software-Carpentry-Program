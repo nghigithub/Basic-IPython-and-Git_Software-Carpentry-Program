{
 "cells": [
  {
   "cell_type": "code",
   "execution_count": 1,
   "metadata": {
    "collapsed": false
   },
   "outputs": [
    {
     "ename": "SyntaxError",
     "evalue": "invalid syntax (<ipython-input-1-3d740a1cc12e>, line 1)",
     "output_type": "error",
     "traceback": [
      "\u001b[1;36m  File \u001b[1;32m\"<ipython-input-1-3d740a1cc12e>\"\u001b[1;36m, line \u001b[1;32m1\u001b[0m\n\u001b[1;33m    $ python code/readings_04.py --mean data/inflammation-01.csv\u001b[0m\n\u001b[1;37m    ^\u001b[0m\n\u001b[1;31mSyntaxError\u001b[0m\u001b[1;31m:\u001b[0m invalid syntax\n"
     ]
    }
   ],
   "source": [
    "$ python code/readings_04.py --mean data/inflammation-01.csv"
   ]
  },
  {
   "cell_type": "code",
   "execution_count": 2,
   "metadata": {
    "collapsed": false
   },
   "outputs": [
    {
     "data": {
      "text/plain": [
       "'C:\\\\Users\\\\htra8681\\\\Desktop\\\\Software Carpentry\\\\The Unix Shell Commands'"
      ]
     },
     "execution_count": 2,
     "metadata": {},
     "output_type": "execute_result"
    }
   ],
   "source": [
    "pwd"
   ]
  },
  {
   "cell_type": "code",
   "execution_count": 3,
   "metadata": {
    "collapsed": false
   },
   "outputs": [
    {
     "name": "stdout",
     "output_type": "stream",
     "text": [
      "C:\\Users\\htra8681\\Desktop\\Software Carpentry\n"
     ]
    }
   ],
   "source": [
    "cd C:\\\\Users\\\\htra8681\\\\Desktop\\\\Software Carpentry"
   ]
  },
  {
   "cell_type": "code",
   "execution_count": 4,
   "metadata": {
    "collapsed": false
   },
   "outputs": [
    {
     "data": {
      "text/plain": [
       "'C:\\\\Users\\\\htra8681\\\\Desktop\\\\Software Carpentry'"
      ]
     },
     "execution_count": 4,
     "metadata": {},
     "output_type": "execute_result"
    }
   ],
   "source": [
    "pwd"
   ]
  },
  {
   "cell_type": "code",
   "execution_count": 17,
   "metadata": {
    "collapsed": false
   },
   "outputs": [
    {
     "name": "stderr",
     "output_type": "stream",
     "text": [
      "python: can't open file 'code/readings_04.py': [Errno 2] No such file or directory\n"
     ]
    }
   ],
   "source": [
    "!python code/readings_04.py --mean data/inflammation-01.csv"
   ]
  },
  {
   "cell_type": "code",
   "execution_count": 18,
   "metadata": {
    "collapsed": false
   },
   "outputs": [
    {
     "name": "stdout",
     "output_type": "stream",
     "text": [
      "version is 3.5.2 |Anaconda 2.5.0 (64-bit)| (default, Jul  5 2016, 11:41:13) [MSC v.1900 64 bit (AMD64)]\n"
     ]
    }
   ],
   "source": [
    "import sys\n",
    "print('version is', sys.version)"
   ]
  },
  {
   "cell_type": "code",
   "execution_count": 20,
   "metadata": {
    "collapsed": false
   },
   "outputs": [
    {
     "name": "stderr",
     "output_type": "stream",
     "text": [
      "python: can't open file 'sys_version.py': [Errno 2] No such file or directory\n"
     ]
    }
   ],
   "source": [
    "!python sys_version.py"
   ]
  },
  {
   "cell_type": "code",
   "execution_count": 11,
   "metadata": {
    "collapsed": false
   },
   "outputs": [
    {
     "name": "stdout",
     "output_type": "stream",
     "text": [
      "sys.argv is ['C:\\\\Users\\\\htra8681\\\\AppData\\\\Local\\\\Continuum\\\\Anaconda3\\\\lib\\\\site-packages\\\\ipykernel\\\\__main__.py', '-f', 'C:\\\\Users\\\\htra8681\\\\AppData\\\\Roaming\\\\jupyter\\\\runtime\\\\kernel-cd1c6479-de6f-4ca6-8ce6-9cc0dd5c91a0.json']\n"
     ]
    }
   ],
   "source": [
    "import sys\n",
    "print('sys.argv is', sys.argv)"
   ]
  },
  {
   "cell_type": "code",
   "execution_count": 16,
   "metadata": {
    "collapsed": false
   },
   "outputs": [
    {
     "ename": "SyntaxError",
     "evalue": "invalid syntax (<ipython-input-16-8a9b4c25bf54>, line 1)",
     "output_type": "error",
     "traceback": [
      "\u001b[1;36m  File \u001b[1;32m\"<ipython-input-16-8a9b4c25bf54>\"\u001b[1;36m, line \u001b[1;32m1\u001b[0m\n\u001b[1;33m    $ python argv_list.py\u001b[0m\n\u001b[1;37m    ^\u001b[0m\n\u001b[1;31mSyntaxError\u001b[0m\u001b[1;31m:\u001b[0m invalid syntax\n"
     ]
    }
   ],
   "source": [
    "$ python argv_list.py"
   ]
  },
  {
   "cell_type": "code",
   "execution_count": 24,
   "metadata": {
    "collapsed": true
   },
   "outputs": [],
   "source": [
    "import numpy\n",
    "def readfile(filename):\n",
    "    data = numpy.loadtxt(filename, delimiter=',')\n",
    "    for m in numpy.mean(data, axis=1):\n",
    "        print(m)"
   ]
  },
  {
   "cell_type": "code",
   "execution_count": 25,
   "metadata": {
    "collapsed": false
   },
   "outputs": [
    {
     "name": "stdout",
     "output_type": "stream",
     "text": [
      "5.45\n",
      "5.425\n",
      "6.1\n",
      "5.9\n",
      "5.55\n",
      "6.225\n",
      "5.975\n",
      "6.65\n",
      "6.625\n",
      "6.525\n",
      "6.775\n",
      "5.8\n",
      "6.225\n",
      "5.75\n",
      "5.225\n",
      "6.3\n",
      "6.55\n",
      "5.7\n",
      "5.85\n",
      "6.55\n",
      "5.775\n",
      "5.825\n",
      "6.175\n",
      "6.1\n",
      "5.8\n",
      "6.425\n",
      "6.05\n",
      "6.025\n",
      "6.175\n",
      "6.55\n",
      "6.175\n",
      "6.35\n",
      "6.725\n",
      "6.125\n",
      "7.075\n",
      "5.725\n",
      "5.925\n",
      "6.15\n",
      "6.075\n",
      "5.75\n",
      "5.975\n",
      "5.725\n",
      "6.3\n",
      "5.9\n",
      "6.75\n",
      "5.925\n",
      "7.225\n",
      "6.15\n",
      "5.95\n",
      "6.275\n",
      "5.7\n",
      "6.1\n",
      "6.825\n",
      "5.975\n",
      "6.725\n",
      "5.7\n",
      "6.25\n",
      "6.4\n",
      "7.05\n",
      "5.9\n"
     ]
    }
   ],
   "source": [
    "filename = '/Users/htra8681/Desktop/inflammation-01.csv'\n",
    "readfile(filename)"
   ]
  },
  {
   "cell_type": "code",
   "execution_count": null,
   "metadata": {
    "collapsed": true
   },
   "outputs": [],
   "source": []
  }
 ],
 "metadata": {
  "kernelspec": {
   "display_name": "Python 3",
   "language": "python",
   "name": "python3"
  },
  "language_info": {
   "codemirror_mode": {
    "name": "ipython",
    "version": 3
   },
   "file_extension": ".py",
   "mimetype": "text/x-python",
   "name": "python",
   "nbconvert_exporter": "python",
   "pygments_lexer": "ipython3",
   "version": "3.5.2"
  }
 },
 "nbformat": 4,
 "nbformat_minor": 0
}
