{
 "cells": [
  {
   "cell_type": "code",
   "execution_count": 1,
   "metadata": {
    "collapsed": false
   },
   "outputs": [
    {
     "data": {
      "text/plain": [
       "u'C:\\\\Users\\\\htra8681\\\\Desktop\\\\Software Carpentry\\\\The Unix Shell Commands'"
      ]
     },
     "execution_count": 1,
     "metadata": {},
     "output_type": "execute_result"
    }
   ],
   "source": [
    "pwd"
   ]
  },
  {
   "cell_type": "code",
   "execution_count": 2,
   "metadata": {
    "collapsed": false
   },
   "outputs": [
    {
     "name": "stdout",
     "output_type": "stream",
     "text": [
      "C:\\Users\\htra8681\\Desktop\\Software Carpentry\n"
     ]
    }
   ],
   "source": [
    "cd .."
   ]
  },
  {
   "cell_type": "code",
   "execution_count": 3,
   "metadata": {
    "collapsed": false
   },
   "outputs": [
    {
     "name": "stdout",
     "output_type": "stream",
     "text": [
      "C:\\Users\\htra8681\\Desktop\\Software Carpentry\\The Unix Shell Commands\n"
     ]
    }
   ],
   "source": [
    "cd -"
   ]
  },
  {
   "cell_type": "code",
   "execution_count": 5,
   "metadata": {
    "collapsed": false
   },
   "outputs": [
    {
     "name": "stdout",
     "output_type": "stream",
     "text": [
      " Volume in drive C has no label.\n",
      " Volume Serial Number is 9A70-FDA2\n",
      "\n",
      " Directory of C:\\Users\\htra8681\\Desktop\\Software Carpentry\\The Unix Shell Commands\n",
      "\n",
      "14/09/2016  04:11 PM    <DIR>          .\n",
      "14/09/2016  04:11 PM    <DIR>          ..\n",
      "14/09/2016  04:11 PM    <DIR>          .ipynb_checkpoints\n",
      "14/09/2016  04:10 PM                72 Basic Unix Commands.ipynb\n",
      "14/09/2016  04:10 PM            11,376 C c l?nh co b?n v?i Unix Shell.ipynb\n",
      "14/09/2016  03:57 PM    <DIR>          Test_folder\n",
      "               2 File(s)         11,448 bytes\n",
      "               4 Dir(s)  151,801,171,968 bytes free\n"
     ]
    }
   ],
   "source": [
    "ls"
   ]
  },
  {
   "cell_type": "code",
   "execution_count": 6,
   "metadata": {
    "collapsed": true
   },
   "outputs": [],
   "source": [
    "mkdir testfolder"
   ]
  },
  {
   "cell_type": "code",
   "execution_count": 7,
   "metadata": {
    "collapsed": false
   },
   "outputs": [
    {
     "name": "stdout",
     "output_type": "stream",
     "text": [
      " Volume in drive C has no label.\n",
      " Volume Serial Number is 9A70-FDA2\n",
      "\n",
      " Directory of C:\\Users\\htra8681\\Desktop\\Software Carpentry\\The Unix Shell Commands\n",
      "\n",
      "14/09/2016  04:12 PM    <DIR>          .\n",
      "14/09/2016  04:12 PM    <DIR>          ..\n",
      "14/09/2016  04:11 PM    <DIR>          .ipynb_checkpoints\n",
      "14/09/2016  04:12 PM             2,616 Basic Unix Commands.ipynb\n",
      "14/09/2016  04:10 PM            11,376 C c l?nh co b?n v?i Unix Shell.ipynb\n",
      "14/09/2016  03:57 PM    <DIR>          Test_folder\n",
      "14/09/2016  04:12 PM    <DIR>          testfolder\n",
      "               2 File(s)         13,992 bytes\n",
      "               5 Dir(s)  151,801,298,944 bytes free\n"
     ]
    }
   ],
   "source": [
    "ls"
   ]
  },
  {
   "cell_type": "code",
   "execution_count": 2,
   "metadata": {
    "collapsed": false
   },
   "outputs": [],
   "source": [
    "%rmdir testfolder"
   ]
  },
  {
   "cell_type": "code",
   "execution_count": 5,
   "metadata": {
    "collapsed": false
   },
   "outputs": [],
   "source": [
    "%rmdir Test_folder"
   ]
  },
  {
   "cell_type": "code",
   "execution_count": 6,
   "metadata": {
    "collapsed": false
   },
   "outputs": [
    {
     "name": "stdout",
     "output_type": "stream",
     "text": [
      " Volume in drive C has no label.\n",
      " Volume Serial Number is 9A70-FDA2\n",
      "\n",
      " Directory of C:\\Users\\htra8681\\Desktop\\Software Carpentry\\The Unix Shell Commands\n",
      "\n",
      "19/09/2016  01:32 PM    <DIR>          .\n",
      "19/09/2016  01:32 PM    <DIR>          ..\n",
      "19/09/2016  10:26 AM    <DIR>          .ipynb_checkpoints\n",
      "19/09/2016  01:12 PM             7,865 Basic Unix Commands.ipynb\n",
      "19/09/2016  09:08 AM            11,376 C c l?nh co b?n v?i Unix Shell.ipynb\n",
      "19/09/2016  01:28 PM             6,358 Untitled.ipynb\n",
      "               3 File(s)         25,599 bytes\n",
      "               3 Dir(s)  153,449,062,400 bytes free\n"
     ]
    }
   ],
   "source": [
    "ls"
   ]
  },
  {
   "cell_type": "code",
   "execution_count": 10,
   "metadata": {
    "collapsed": false
   },
   "outputs": [
    {
     "data": {
      "text/plain": [
       "u'C:\\\\Users\\\\htra8681\\\\Desktop\\\\Software Carpentry\\\\The Unix Shell Commands'"
      ]
     },
     "execution_count": 10,
     "metadata": {},
     "output_type": "execute_result"
    }
   ],
   "source": [
    "pwd"
   ]
  },
  {
   "cell_type": "code",
   "execution_count": 11,
   "metadata": {
    "collapsed": false
   },
   "outputs": [
    {
     "name": "stdout",
     "output_type": "stream",
     "text": [
      "C:\\Users\\htra8681\\Desktop\\Software Carpentry\n"
     ]
    }
   ],
   "source": [
    "cd .."
   ]
  },
  {
   "cell_type": "code",
   "execution_count": 12,
   "metadata": {
    "collapsed": false
   },
   "outputs": [
    {
     "name": "stdout",
     "output_type": "stream",
     "text": [
      "C:\\Users\\htra8681\\Desktop\\Software Carpentry\\data\n"
     ]
    }
   ],
   "source": [
    "cd data"
   ]
  },
  {
   "cell_type": "code",
   "execution_count": 13,
   "metadata": {
    "collapsed": false
   },
   "outputs": [
    {
     "data": {
      "text/plain": [
       "u'C:\\\\Users\\\\htra8681\\\\Desktop\\\\Software Carpentry\\\\data'"
      ]
     },
     "execution_count": 13,
     "metadata": {},
     "output_type": "execute_result"
    }
   ],
   "source": [
    "pwd"
   ]
  },
  {
   "cell_type": "code",
   "execution_count": 17,
   "metadata": {
    "collapsed": false
   },
   "outputs": [
    {
     "name": "stdout",
     "output_type": "stream",
     "text": [
      " Volume in drive C has no label.\n",
      " Volume Serial Number is 9A70-FDA2\n",
      "\n",
      " Directory of C:\\Users\\htra8681\\Desktop\\Software Carpentry\\data\n",
      "\n",
      "11/05/2015  01:26 AM    <DIR>          .\n",
      "11/05/2015  01:26 AM    <DIR>          ..\n",
      "11/05/2015  01:26 AM             5,365 inflammation-01.csv\n",
      "11/05/2015  01:26 AM             5,314 inflammation-02.csv\n",
      "11/05/2015  01:26 AM             5,127 inflammation-03.csv\n",
      "11/05/2015  01:26 AM             5,367 inflammation-04.csv\n",
      "11/05/2015  01:26 AM             5,345 inflammation-05.csv\n",
      "11/05/2015  01:26 AM             5,330 inflammation-06.csv\n",
      "11/05/2015  01:26 AM             5,342 inflammation-07.csv\n",
      "11/05/2015  01:26 AM             5,127 inflammation-08.csv\n",
      "11/05/2015  01:26 AM             5,327 inflammation-09.csv\n",
      "11/05/2015  01:26 AM             5,342 inflammation-10.csv\n",
      "11/05/2015  01:26 AM             5,127 inflammation-11.csv\n",
      "11/05/2015  01:26 AM             5,340 inflammation-12.csv\n",
      "11/05/2015  01:26 AM                12 small-01.csv\n",
      "11/05/2015  01:26 AM                15 small-02.csv\n",
      "11/05/2015  01:26 AM                12 small-03.csv\n",
      "              15 File(s)         63,492 bytes\n",
      "               2 Dir(s)  151,804,256,256 bytes free\n"
     ]
    }
   ],
   "source": [
    "ls"
   ]
  },
  {
   "cell_type": "code",
   "execution_count": 7,
   "metadata": {
    "collapsed": false
   },
   "outputs": [
    {
     "data": {
      "text/plain": [
       "'C:\\\\Users\\\\htra8681\\\\Desktop\\\\Software Carpentry\\\\The Unix Shell Commands'"
      ]
     },
     "execution_count": 7,
     "metadata": {},
     "output_type": "execute_result"
    }
   ],
   "source": [
    "pwd"
   ]
  },
  {
   "cell_type": "code",
   "execution_count": 8,
   "metadata": {
    "collapsed": false
   },
   "outputs": [
    {
     "name": "stdout",
     "output_type": "stream",
     "text": [
      "C:\\Users\\htra8681\\Desktop\\Software Carpentry\n"
     ]
    }
   ],
   "source": [
    "cd C:\\\\Users\\\\htra8681\\\\Desktop\\\\Software Carpentry"
   ]
  },
  {
   "cell_type": "code",
   "execution_count": 9,
   "metadata": {
    "collapsed": false
   },
   "outputs": [
    {
     "data": {
      "text/plain": [
       "'C:\\\\Users\\\\htra8681\\\\Desktop\\\\Software Carpentry'"
      ]
     },
     "execution_count": 9,
     "metadata": {},
     "output_type": "execute_result"
    }
   ],
   "source": [
    "pwd"
   ]
  },
  {
   "cell_type": "code",
   "execution_count": 10,
   "metadata": {
    "collapsed": false
   },
   "outputs": [
    {
     "name": "stdout",
     "output_type": "stream",
     "text": [
      "C:\\Users\\htra8681\\Desktop\\Software Carpentry\\data\n"
     ]
    }
   ],
   "source": [
    "cd data"
   ]
  },
  {
   "cell_type": "code",
   "execution_count": 15,
   "metadata": {
    "collapsed": true
   },
   "outputs": [],
   "source": [
    "mkdir Test"
   ]
  },
  {
   "cell_type": "code",
   "execution_count": 16,
   "metadata": {
    "collapsed": false
   },
   "outputs": [],
   "source": [
    "rmdir Test"
   ]
  },
  {
   "cell_type": "code",
   "execution_count": null,
   "metadata": {
    "collapsed": true
   },
   "outputs": [],
   "source": []
  }
 ],
 "metadata": {
  "kernelspec": {
   "display_name": "Python 3",
   "language": "python",
   "name": "python3"
  },
  "language_info": {
   "codemirror_mode": {
    "name": "ipython",
    "version": 3
   },
   "file_extension": ".py",
   "mimetype": "text/x-python",
   "name": "python",
   "nbconvert_exporter": "python",
   "pygments_lexer": "ipython3",
   "version": "3.5.2"
  }
 },
 "nbformat": 4,
 "nbformat_minor": 0
}
